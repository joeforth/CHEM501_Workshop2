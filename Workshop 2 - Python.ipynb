{
 "cells": [
  {
   "cell_type": "markdown",
   "metadata": {},
   "source": [
    "<h1>Workshop 2 - Plot the Data</h1>\n",
    "In the last workshop, we got Python to speak to an Arduino that was constantly reading data.\n",
    "\n",
    "In this workshop, we'll start using Python to <b>control</b> the Arduino by telling it when to start reading data and how much data to read.\n",
    "\n",
    "<h1>Hacking Activity 1 - Talking to your Nicla</h1>\n",
    "<b>For this Activity, you'll need the Arduino code in Workshop 2, Activity 1.</b> You can either copy it off the word/pdf doc or download it from the Canvas page.\n",
    "\n",
    "The next two exercises are about getting Python to work with your Arduino. The code will require modification to work with your computer. As well as the comments in the code, look up the Common Bugs / FAQs sheet on the CHEM501 page - it may have the solution to your problems."
   ]
  },
  {
   "cell_type": "markdown",
   "metadata": {},
   "source": [
    "<h2>Hacking Exercise 1</h2>\n",
    "First, we need to get Python talking to your Nicla. Review what you learnt in the previous workshop, look at the comments in the code, and get the code below working for *your* computer."
   ]
  },
  {
   "cell_type": "code",
   "execution_count": 3,
   "metadata": {},
   "outputs": [
    {
     "name": "stdout",
     "output_type": "stream",
     "text": [
      "n/a\n",
      "/dev/cu.wlan-debug\n",
      "n/a\n",
      "/dev/cu.Bluetooth-Incoming-Port\n",
      "Nicla Sense CMSIS-DAP\n",
      "/dev/cu.usbmodemEBBED8AD2\n"
     ]
    }
   ],
   "source": [
    "import serial\n",
    "import serial.tools.list_ports\n",
    "import pandas as pd\n",
    "import numpy as np\n",
    "\n",
    "# Connect to the Nicla\n",
    "ports = serial.tools.list_ports.comports()\n",
    "for n in ports:\n",
    "    # Print the names of the devices connected to the computer - your Nicla will be one of them.\n",
    "    print(n.description)\n",
    "    print(n.device)\n",
    "    # If your computer is a Mac, you can use the following lines to automatically set the Serial port:\n",
    "    # if 'Nicla' in n.description:\n",
    "    #     dev = n.device\n",
    "\n",
    "# You need to change the line below to the right Serial port for your Nicla:\n",
    "dev = '/dev/cu.usbmodemEBBED8AD2'\n",
    "\n",
    "# See baudrate=115200 below? This is the speed at which the Nicla communicates with the computer. Don't change it.\n",
    "nicla = serial.Serial(port=dev, baudrate=115200, timeout=.1)\n"
   ]
  },
  {
   "cell_type": "markdown",
   "metadata": {},
   "source": [
    "<h2>Hacking Exercise 2</h2>\n",
    "Now we need to send a request to the arduino for <b>n_readings</b> measurements, just like we did when we sent the number of readings manually in the Serial Monitor. To do this, we use the <b>write</b> function in the <b>serial</b> module.\n",
    "\n",
    "Again - get the code below working for *your* computer, remembering that some lines of code (e.g., nicla.flush()) and nicla.reset_input_buffer()) help the code run on some computers, but stop it from working on others!\n",
    "\n",
    "When you've got the code working, modify it to take 1000 readings."
   ]
  },
  {
   "cell_type": "code",
   "execution_count": 4,
   "metadata": {},
   "outputs": [
    {
     "data": {
      "text/html": [
       "<div>\n",
       "<style scoped>\n",
       "    .dataframe tbody tr th:only-of-type {\n",
       "        vertical-align: middle;\n",
       "    }\n",
       "\n",
       "    .dataframe tbody tr th {\n",
       "        vertical-align: top;\n",
       "    }\n",
       "\n",
       "    .dataframe thead th {\n",
       "        text-align: right;\n",
       "    }\n",
       "</style>\n",
       "<table border=\"1\" class=\"dataframe\">\n",
       "  <thead>\n",
       "    <tr style=\"text-align: right;\">\n",
       "      <th></th>\n",
       "      <th>time</th>\n",
       "      <th>temp</th>\n",
       "      <th>pressure</th>\n",
       "      <th>gas</th>\n",
       "    </tr>\n",
       "  </thead>\n",
       "  <tbody>\n",
       "    <tr>\n",
       "      <th>0</th>\n",
       "      <td>0.0</td>\n",
       "      <td>0.00</td>\n",
       "      <td>0.00</td>\n",
       "      <td>0.0</td>\n",
       "    </tr>\n",
       "    <tr>\n",
       "      <th>1</th>\n",
       "      <td>0.0</td>\n",
       "      <td>0.00</td>\n",
       "      <td>0.00</td>\n",
       "      <td>0.0</td>\n",
       "    </tr>\n",
       "    <tr>\n",
       "      <th>2</th>\n",
       "      <td>0.0</td>\n",
       "      <td>0.00</td>\n",
       "      <td>0.00</td>\n",
       "      <td>0.0</td>\n",
       "    </tr>\n",
       "    <tr>\n",
       "      <th>3</th>\n",
       "      <td>0.0</td>\n",
       "      <td>0.00</td>\n",
       "      <td>0.00</td>\n",
       "      <td>0.0</td>\n",
       "    </tr>\n",
       "    <tr>\n",
       "      <th>4</th>\n",
       "      <td>0.0</td>\n",
       "      <td>0.00</td>\n",
       "      <td>0.00</td>\n",
       "      <td>0.0</td>\n",
       "    </tr>\n",
       "    <tr>\n",
       "      <th>...</th>\n",
       "      <td>...</td>\n",
       "      <td>...</td>\n",
       "      <td>...</td>\n",
       "      <td>...</td>\n",
       "    </tr>\n",
       "    <tr>\n",
       "      <th>195</th>\n",
       "      <td>784.0</td>\n",
       "      <td>29.15</td>\n",
       "      <td>1010.92</td>\n",
       "      <td>18744.0</td>\n",
       "    </tr>\n",
       "    <tr>\n",
       "      <th>196</th>\n",
       "      <td>787.0</td>\n",
       "      <td>29.15</td>\n",
       "      <td>1010.92</td>\n",
       "      <td>18744.0</td>\n",
       "    </tr>\n",
       "    <tr>\n",
       "      <th>197</th>\n",
       "      <td>790.0</td>\n",
       "      <td>29.15</td>\n",
       "      <td>1010.92</td>\n",
       "      <td>18744.0</td>\n",
       "    </tr>\n",
       "    <tr>\n",
       "      <th>198</th>\n",
       "      <td>792.0</td>\n",
       "      <td>29.15</td>\n",
       "      <td>1010.92</td>\n",
       "      <td>18744.0</td>\n",
       "    </tr>\n",
       "    <tr>\n",
       "      <th>199</th>\n",
       "      <td>795.0</td>\n",
       "      <td>29.15</td>\n",
       "      <td>1010.92</td>\n",
       "      <td>18744.0</td>\n",
       "    </tr>\n",
       "  </tbody>\n",
       "</table>\n",
       "<p>200 rows × 4 columns</p>\n",
       "</div>"
      ],
      "text/plain": [
       "      time   temp  pressure      gas\n",
       "0      0.0   0.00      0.00      0.0\n",
       "1      0.0   0.00      0.00      0.0\n",
       "2      0.0   0.00      0.00      0.0\n",
       "3      0.0   0.00      0.00      0.0\n",
       "4      0.0   0.00      0.00      0.0\n",
       "..     ...    ...       ...      ...\n",
       "195  784.0  29.15   1010.92  18744.0\n",
       "196  787.0  29.15   1010.92  18744.0\n",
       "197  790.0  29.15   1010.92  18744.0\n",
       "198  792.0  29.15   1010.92  18744.0\n",
       "199  795.0  29.15   1010.92  18744.0\n",
       "\n",
       "[200 rows x 4 columns]"
      ]
     },
     "execution_count": 4,
     "metadata": {},
     "output_type": "execute_result"
    }
   ],
   "source": [
    "# Number of readings to take\n",
    "n_readings = 200\n",
    "column_titles = ['time', 'temp', 'pressure', 'gas']\n",
    "\n",
    "# Clear the buffer for the Nicla serial port - it may help to comment these 2 lines out, it may help to keep them!\n",
    "nicla.flush()\n",
    "nicla.reset_input_buffer()\n",
    "\n",
    "# Start collecting data - tell the Nicla how many data points to take\n",
    "nicla.write(bytes(\"{f0}\".format(f0=n_readings), 'utf-8'))\n",
    "\n",
    "# Create somewhere to store the data\n",
    "data_table = np.zeros((n_readings, len(column_titles)))\n",
    "# Uncomment the line below if you'd like to see what the data_table looks like - google \"numpy zeros\" to learn what the function is doing.\n",
    "# print(data_table)\n",
    "\n",
    "# Get the data from the Nicla\n",
    "for n in range(n_readings):\n",
    "    # Read data from the Nicla up to '/n'\n",
    "    data = nicla.readline()\n",
    "    # Split the line read from the Nicla every time it finds a ','\n",
    "    data = np.fromstring(data, sep=',')\n",
    "    # Unless the data has the correct length, ignore it\n",
    "    if len(data) == len(column_titles):\n",
    "        data_table[n,:] = data\n",
    "\n",
    "# Close the serial port\n",
    "nicla.close()\n",
    "\n",
    "# Put the data in a DataFrame\n",
    "tpg_data = pd.DataFrame(data_table, columns=column_titles)\n",
    "tpg_data"
   ]
  },
  {
   "cell_type": "markdown",
   "metadata": {},
   "source": [
    "<h1>Take a Break</h3>\n",
    "You need a break. Joe needs a break. Anna needs a break. At one point, Anna even said she'd bring snacks for this bit. \n",
    "\n",
    "We'll start the Python Activities after the break."
   ]
  },
  {
   "cell_type": "markdown",
   "metadata": {},
   "source": [
    "<h1>Python Activity 1 - Pandas</h1>"
   ]
  },
  {
   "cell_type": "markdown",
   "metadata": {},
   "source": [
    "<h3>1.1 - Pandas? DataFrames?</h3>\n",
    "\n",
    "In the last piece of code you used a module called pandas to create something called a DataFrame - let's spend some time getting used to what that means.\n",
    "\n",
    "pandas is a module that helps you store, manipulate, and analyse your data. You can read more about it [here](https://pandas.pydata.org/docs/user_guide/10min.html).\n",
    "\n",
    "A DataFrame is the thing pandas uses to store data. To access the DataFrame, you type its name and run the code:"
   ]
  },
  {
   "cell_type": "code",
   "execution_count": 5,
   "metadata": {},
   "outputs": [
    {
     "data": {
      "text/html": [
       "<div>\n",
       "<style scoped>\n",
       "    .dataframe tbody tr th:only-of-type {\n",
       "        vertical-align: middle;\n",
       "    }\n",
       "\n",
       "    .dataframe tbody tr th {\n",
       "        vertical-align: top;\n",
       "    }\n",
       "\n",
       "    .dataframe thead th {\n",
       "        text-align: right;\n",
       "    }\n",
       "</style>\n",
       "<table border=\"1\" class=\"dataframe\">\n",
       "  <thead>\n",
       "    <tr style=\"text-align: right;\">\n",
       "      <th></th>\n",
       "      <th>time</th>\n",
       "      <th>temp</th>\n",
       "      <th>pressure</th>\n",
       "      <th>gas</th>\n",
       "    </tr>\n",
       "  </thead>\n",
       "  <tbody>\n",
       "    <tr>\n",
       "      <th>0</th>\n",
       "      <td>0.0</td>\n",
       "      <td>0.00</td>\n",
       "      <td>0.00</td>\n",
       "      <td>0.0</td>\n",
       "    </tr>\n",
       "    <tr>\n",
       "      <th>1</th>\n",
       "      <td>0.0</td>\n",
       "      <td>0.00</td>\n",
       "      <td>0.00</td>\n",
       "      <td>0.0</td>\n",
       "    </tr>\n",
       "    <tr>\n",
       "      <th>2</th>\n",
       "      <td>0.0</td>\n",
       "      <td>0.00</td>\n",
       "      <td>0.00</td>\n",
       "      <td>0.0</td>\n",
       "    </tr>\n",
       "    <tr>\n",
       "      <th>3</th>\n",
       "      <td>0.0</td>\n",
       "      <td>0.00</td>\n",
       "      <td>0.00</td>\n",
       "      <td>0.0</td>\n",
       "    </tr>\n",
       "    <tr>\n",
       "      <th>4</th>\n",
       "      <td>0.0</td>\n",
       "      <td>0.00</td>\n",
       "      <td>0.00</td>\n",
       "      <td>0.0</td>\n",
       "    </tr>\n",
       "    <tr>\n",
       "      <th>...</th>\n",
       "      <td>...</td>\n",
       "      <td>...</td>\n",
       "      <td>...</td>\n",
       "      <td>...</td>\n",
       "    </tr>\n",
       "    <tr>\n",
       "      <th>195</th>\n",
       "      <td>784.0</td>\n",
       "      <td>29.15</td>\n",
       "      <td>1010.92</td>\n",
       "      <td>18744.0</td>\n",
       "    </tr>\n",
       "    <tr>\n",
       "      <th>196</th>\n",
       "      <td>787.0</td>\n",
       "      <td>29.15</td>\n",
       "      <td>1010.92</td>\n",
       "      <td>18744.0</td>\n",
       "    </tr>\n",
       "    <tr>\n",
       "      <th>197</th>\n",
       "      <td>790.0</td>\n",
       "      <td>29.15</td>\n",
       "      <td>1010.92</td>\n",
       "      <td>18744.0</td>\n",
       "    </tr>\n",
       "    <tr>\n",
       "      <th>198</th>\n",
       "      <td>792.0</td>\n",
       "      <td>29.15</td>\n",
       "      <td>1010.92</td>\n",
       "      <td>18744.0</td>\n",
       "    </tr>\n",
       "    <tr>\n",
       "      <th>199</th>\n",
       "      <td>795.0</td>\n",
       "      <td>29.15</td>\n",
       "      <td>1010.92</td>\n",
       "      <td>18744.0</td>\n",
       "    </tr>\n",
       "  </tbody>\n",
       "</table>\n",
       "<p>200 rows × 4 columns</p>\n",
       "</div>"
      ],
      "text/plain": [
       "      time   temp  pressure      gas\n",
       "0      0.0   0.00      0.00      0.0\n",
       "1      0.0   0.00      0.00      0.0\n",
       "2      0.0   0.00      0.00      0.0\n",
       "3      0.0   0.00      0.00      0.0\n",
       "4      0.0   0.00      0.00      0.0\n",
       "..     ...    ...       ...      ...\n",
       "195  784.0  29.15   1010.92  18744.0\n",
       "196  787.0  29.15   1010.92  18744.0\n",
       "197  790.0  29.15   1010.92  18744.0\n",
       "198  792.0  29.15   1010.92  18744.0\n",
       "199  795.0  29.15   1010.92  18744.0\n",
       "\n",
       "[200 rows x 4 columns]"
      ]
     },
     "execution_count": 5,
     "metadata": {},
     "output_type": "execute_result"
    }
   ],
   "source": [
    "tpg_data"
   ]
  },
  {
   "cell_type": "markdown",
   "metadata": {},
   "source": [
    "You can access individual columns of the DataFrame by typing the name of the column:"
   ]
  },
  {
   "cell_type": "code",
   "execution_count": 6,
   "metadata": {},
   "outputs": [
    {
     "data": {
      "text/plain": [
       "0       0.00\n",
       "1       0.00\n",
       "2       0.00\n",
       "3       0.00\n",
       "4       0.00\n",
       "       ...  \n",
       "195    29.15\n",
       "196    29.15\n",
       "197    29.15\n",
       "198    29.15\n",
       "199    29.15\n",
       "Name: temp, Length: 200, dtype: float64"
      ]
     },
     "execution_count": 6,
     "metadata": {},
     "output_type": "execute_result"
    }
   ],
   "source": [
    "tpg_data['temp']"
   ]
  },
  {
   "cell_type": "markdown",
   "metadata": {},
   "source": [
    "You can create a new DataFrame by selecting a part of another DataFrame that you're interested in:"
   ]
  },
  {
   "cell_type": "code",
   "execution_count": 7,
   "metadata": {},
   "outputs": [
    {
     "data": {
      "text/html": [
       "<div>\n",
       "<style scoped>\n",
       "    .dataframe tbody tr th:only-of-type {\n",
       "        vertical-align: middle;\n",
       "    }\n",
       "\n",
       "    .dataframe tbody tr th {\n",
       "        vertical-align: top;\n",
       "    }\n",
       "\n",
       "    .dataframe thead th {\n",
       "        text-align: right;\n",
       "    }\n",
       "</style>\n",
       "<table border=\"1\" class=\"dataframe\">\n",
       "  <thead>\n",
       "    <tr style=\"text-align: right;\">\n",
       "      <th></th>\n",
       "      <th>time</th>\n",
       "      <th>temp</th>\n",
       "    </tr>\n",
       "  </thead>\n",
       "  <tbody>\n",
       "    <tr>\n",
       "      <th>0</th>\n",
       "      <td>0.0</td>\n",
       "      <td>0.00</td>\n",
       "    </tr>\n",
       "    <tr>\n",
       "      <th>1</th>\n",
       "      <td>0.0</td>\n",
       "      <td>0.00</td>\n",
       "    </tr>\n",
       "    <tr>\n",
       "      <th>2</th>\n",
       "      <td>0.0</td>\n",
       "      <td>0.00</td>\n",
       "    </tr>\n",
       "    <tr>\n",
       "      <th>3</th>\n",
       "      <td>0.0</td>\n",
       "      <td>0.00</td>\n",
       "    </tr>\n",
       "    <tr>\n",
       "      <th>4</th>\n",
       "      <td>0.0</td>\n",
       "      <td>0.00</td>\n",
       "    </tr>\n",
       "    <tr>\n",
       "      <th>...</th>\n",
       "      <td>...</td>\n",
       "      <td>...</td>\n",
       "    </tr>\n",
       "    <tr>\n",
       "      <th>195</th>\n",
       "      <td>784.0</td>\n",
       "      <td>29.15</td>\n",
       "    </tr>\n",
       "    <tr>\n",
       "      <th>196</th>\n",
       "      <td>787.0</td>\n",
       "      <td>29.15</td>\n",
       "    </tr>\n",
       "    <tr>\n",
       "      <th>197</th>\n",
       "      <td>790.0</td>\n",
       "      <td>29.15</td>\n",
       "    </tr>\n",
       "    <tr>\n",
       "      <th>198</th>\n",
       "      <td>792.0</td>\n",
       "      <td>29.15</td>\n",
       "    </tr>\n",
       "    <tr>\n",
       "      <th>199</th>\n",
       "      <td>795.0</td>\n",
       "      <td>29.15</td>\n",
       "    </tr>\n",
       "  </tbody>\n",
       "</table>\n",
       "<p>200 rows × 2 columns</p>\n",
       "</div>"
      ],
      "text/plain": [
       "      time   temp\n",
       "0      0.0   0.00\n",
       "1      0.0   0.00\n",
       "2      0.0   0.00\n",
       "3      0.0   0.00\n",
       "4      0.0   0.00\n",
       "..     ...    ...\n",
       "195  784.0  29.15\n",
       "196  787.0  29.15\n",
       "197  790.0  29.15\n",
       "198  792.0  29.15\n",
       "199  795.0  29.15\n",
       "\n",
       "[200 rows x 2 columns]"
      ]
     },
     "execution_count": 7,
     "metadata": {},
     "output_type": "execute_result"
    }
   ],
   "source": [
    "data_filtered = tpg_data[['time', 'temp']]\n",
    "data_filtered"
   ]
  },
  {
   "cell_type": "markdown",
   "metadata": {},
   "source": [
    "You can select which bits of data you'd like to look at using mathematical operators (the code below selects all the rows where the measured temperature is greater than 0)"
   ]
  },
  {
   "cell_type": "code",
   "execution_count": 8,
   "metadata": {},
   "outputs": [
    {
     "data": {
      "text/html": [
       "<div>\n",
       "<style scoped>\n",
       "    .dataframe tbody tr th:only-of-type {\n",
       "        vertical-align: middle;\n",
       "    }\n",
       "\n",
       "    .dataframe tbody tr th {\n",
       "        vertical-align: top;\n",
       "    }\n",
       "\n",
       "    .dataframe thead th {\n",
       "        text-align: right;\n",
       "    }\n",
       "</style>\n",
       "<table border=\"1\" class=\"dataframe\">\n",
       "  <thead>\n",
       "    <tr style=\"text-align: right;\">\n",
       "      <th></th>\n",
       "      <th>time</th>\n",
       "      <th>temp</th>\n",
       "      <th>pressure</th>\n",
       "      <th>gas</th>\n",
       "    </tr>\n",
       "  </thead>\n",
       "  <tbody>\n",
       "    <tr>\n",
       "      <th>12</th>\n",
       "      <td>232.0</td>\n",
       "      <td>29.15</td>\n",
       "      <td>1010.92</td>\n",
       "      <td>18879.0</td>\n",
       "    </tr>\n",
       "    <tr>\n",
       "      <th>13</th>\n",
       "      <td>235.0</td>\n",
       "      <td>29.15</td>\n",
       "      <td>1010.92</td>\n",
       "      <td>18644.0</td>\n",
       "    </tr>\n",
       "    <tr>\n",
       "      <th>14</th>\n",
       "      <td>238.0</td>\n",
       "      <td>29.15</td>\n",
       "      <td>1010.92</td>\n",
       "      <td>18644.0</td>\n",
       "    </tr>\n",
       "    <tr>\n",
       "      <th>15</th>\n",
       "      <td>241.0</td>\n",
       "      <td>29.15</td>\n",
       "      <td>1010.92</td>\n",
       "      <td>18644.0</td>\n",
       "    </tr>\n",
       "    <tr>\n",
       "      <th>16</th>\n",
       "      <td>244.0</td>\n",
       "      <td>29.15</td>\n",
       "      <td>1010.92</td>\n",
       "      <td>18644.0</td>\n",
       "    </tr>\n",
       "    <tr>\n",
       "      <th>...</th>\n",
       "      <td>...</td>\n",
       "      <td>...</td>\n",
       "      <td>...</td>\n",
       "      <td>...</td>\n",
       "    </tr>\n",
       "    <tr>\n",
       "      <th>195</th>\n",
       "      <td>784.0</td>\n",
       "      <td>29.15</td>\n",
       "      <td>1010.92</td>\n",
       "      <td>18744.0</td>\n",
       "    </tr>\n",
       "    <tr>\n",
       "      <th>196</th>\n",
       "      <td>787.0</td>\n",
       "      <td>29.15</td>\n",
       "      <td>1010.92</td>\n",
       "      <td>18744.0</td>\n",
       "    </tr>\n",
       "    <tr>\n",
       "      <th>197</th>\n",
       "      <td>790.0</td>\n",
       "      <td>29.15</td>\n",
       "      <td>1010.92</td>\n",
       "      <td>18744.0</td>\n",
       "    </tr>\n",
       "    <tr>\n",
       "      <th>198</th>\n",
       "      <td>792.0</td>\n",
       "      <td>29.15</td>\n",
       "      <td>1010.92</td>\n",
       "      <td>18744.0</td>\n",
       "    </tr>\n",
       "    <tr>\n",
       "      <th>199</th>\n",
       "      <td>795.0</td>\n",
       "      <td>29.15</td>\n",
       "      <td>1010.92</td>\n",
       "      <td>18744.0</td>\n",
       "    </tr>\n",
       "  </tbody>\n",
       "</table>\n",
       "<p>188 rows × 4 columns</p>\n",
       "</div>"
      ],
      "text/plain": [
       "      time   temp  pressure      gas\n",
       "12   232.0  29.15   1010.92  18879.0\n",
       "13   235.0  29.15   1010.92  18644.0\n",
       "14   238.0  29.15   1010.92  18644.0\n",
       "15   241.0  29.15   1010.92  18644.0\n",
       "16   244.0  29.15   1010.92  18644.0\n",
       "..     ...    ...       ...      ...\n",
       "195  784.0  29.15   1010.92  18744.0\n",
       "196  787.0  29.15   1010.92  18744.0\n",
       "197  790.0  29.15   1010.92  18744.0\n",
       "198  792.0  29.15   1010.92  18744.0\n",
       "199  795.0  29.15   1010.92  18744.0\n",
       "\n",
       "[188 rows x 4 columns]"
      ]
     },
     "execution_count": 8,
     "metadata": {},
     "output_type": "execute_result"
    }
   ],
   "source": [
    "tpg_data[tpg_data['temp'] > 0]"
   ]
  },
  {
   "cell_type": "markdown",
   "metadata": {},
   "source": [
    "<h2>Python Exercise 1</h2>\n",
    "\n",
    "In this exercise, we're going to learn how to select rows of data in pandas using the 'loc' and 'iloc' commands. You can read more about them [here](https://pandas.pydata.org/docs/user_guide/10min.html) - under 'Selection'.\n",
    "\n",
    "As a starting point, let's look at the following DataFrame: "
   ]
  },
  {
   "cell_type": "code",
   "execution_count": 9,
   "metadata": {},
   "outputs": [
    {
     "data": {
      "text/html": [
       "<div>\n",
       "<style scoped>\n",
       "    .dataframe tbody tr th:only-of-type {\n",
       "        vertical-align: middle;\n",
       "    }\n",
       "\n",
       "    .dataframe tbody tr th {\n",
       "        vertical-align: top;\n",
       "    }\n",
       "\n",
       "    .dataframe thead th {\n",
       "        text-align: right;\n",
       "    }\n",
       "</style>\n",
       "<table border=\"1\" class=\"dataframe\">\n",
       "  <thead>\n",
       "    <tr style=\"text-align: right;\">\n",
       "      <th></th>\n",
       "      <th>time</th>\n",
       "      <th>temp</th>\n",
       "      <th>pressure</th>\n",
       "      <th>gas</th>\n",
       "    </tr>\n",
       "  </thead>\n",
       "  <tbody>\n",
       "    <tr>\n",
       "      <th>0</th>\n",
       "      <td>0.0</td>\n",
       "      <td>0.00</td>\n",
       "      <td>0.00</td>\n",
       "      <td>0.0</td>\n",
       "    </tr>\n",
       "    <tr>\n",
       "      <th>1</th>\n",
       "      <td>0.0</td>\n",
       "      <td>0.00</td>\n",
       "      <td>0.00</td>\n",
       "      <td>0.0</td>\n",
       "    </tr>\n",
       "    <tr>\n",
       "      <th>2</th>\n",
       "      <td>0.0</td>\n",
       "      <td>0.00</td>\n",
       "      <td>0.00</td>\n",
       "      <td>0.0</td>\n",
       "    </tr>\n",
       "    <tr>\n",
       "      <th>3</th>\n",
       "      <td>0.0</td>\n",
       "      <td>0.00</td>\n",
       "      <td>0.00</td>\n",
       "      <td>0.0</td>\n",
       "    </tr>\n",
       "    <tr>\n",
       "      <th>4</th>\n",
       "      <td>0.0</td>\n",
       "      <td>0.00</td>\n",
       "      <td>0.00</td>\n",
       "      <td>0.0</td>\n",
       "    </tr>\n",
       "    <tr>\n",
       "      <th>...</th>\n",
       "      <td>...</td>\n",
       "      <td>...</td>\n",
       "      <td>...</td>\n",
       "      <td>...</td>\n",
       "    </tr>\n",
       "    <tr>\n",
       "      <th>195</th>\n",
       "      <td>784.0</td>\n",
       "      <td>29.15</td>\n",
       "      <td>1010.92</td>\n",
       "      <td>18744.0</td>\n",
       "    </tr>\n",
       "    <tr>\n",
       "      <th>196</th>\n",
       "      <td>787.0</td>\n",
       "      <td>29.15</td>\n",
       "      <td>1010.92</td>\n",
       "      <td>18744.0</td>\n",
       "    </tr>\n",
       "    <tr>\n",
       "      <th>197</th>\n",
       "      <td>790.0</td>\n",
       "      <td>29.15</td>\n",
       "      <td>1010.92</td>\n",
       "      <td>18744.0</td>\n",
       "    </tr>\n",
       "    <tr>\n",
       "      <th>198</th>\n",
       "      <td>792.0</td>\n",
       "      <td>29.15</td>\n",
       "      <td>1010.92</td>\n",
       "      <td>18744.0</td>\n",
       "    </tr>\n",
       "    <tr>\n",
       "      <th>199</th>\n",
       "      <td>795.0</td>\n",
       "      <td>29.15</td>\n",
       "      <td>1010.92</td>\n",
       "      <td>18744.0</td>\n",
       "    </tr>\n",
       "  </tbody>\n",
       "</table>\n",
       "<p>200 rows × 4 columns</p>\n",
       "</div>"
      ],
      "text/plain": [
       "      time   temp  pressure      gas\n",
       "0      0.0   0.00      0.00      0.0\n",
       "1      0.0   0.00      0.00      0.0\n",
       "2      0.0   0.00      0.00      0.0\n",
       "3      0.0   0.00      0.00      0.0\n",
       "4      0.0   0.00      0.00      0.0\n",
       "..     ...    ...       ...      ...\n",
       "195  784.0  29.15   1010.92  18744.0\n",
       "196  787.0  29.15   1010.92  18744.0\n",
       "197  790.0  29.15   1010.92  18744.0\n",
       "198  792.0  29.15   1010.92  18744.0\n",
       "199  795.0  29.15   1010.92  18744.0\n",
       "\n",
       "[200 rows x 4 columns]"
      ]
     },
     "execution_count": 9,
     "metadata": {},
     "output_type": "execute_result"
    }
   ],
   "source": [
    "data_exercise1 = tpg_data\n",
    "data_exercise1"
   ]
  },
  {
   "cell_type": "markdown",
   "metadata": {},
   "source": [
    "There are 2 main ways to select rows of data in pandas. These are:\n",
    "\n",
    "<h3>1. Selection by Location</h3>\n",
    "Sometimes you just want to select data on a specific row - for this you use 'iloc'"
   ]
  },
  {
   "cell_type": "code",
   "execution_count": 10,
   "metadata": {},
   "outputs": [
    {
     "data": {
      "text/html": [
       "<div>\n",
       "<style scoped>\n",
       "    .dataframe tbody tr th:only-of-type {\n",
       "        vertical-align: middle;\n",
       "    }\n",
       "\n",
       "    .dataframe tbody tr th {\n",
       "        vertical-align: top;\n",
       "    }\n",
       "\n",
       "    .dataframe thead th {\n",
       "        text-align: right;\n",
       "    }\n",
       "</style>\n",
       "<table border=\"1\" class=\"dataframe\">\n",
       "  <thead>\n",
       "    <tr style=\"text-align: right;\">\n",
       "      <th></th>\n",
       "      <th>time</th>\n",
       "      <th>temp</th>\n",
       "      <th>pressure</th>\n",
       "      <th>gas</th>\n",
       "    </tr>\n",
       "  </thead>\n",
       "  <tbody>\n",
       "    <tr>\n",
       "      <th>0</th>\n",
       "      <td>0.0</td>\n",
       "      <td>0.0</td>\n",
       "      <td>0.0</td>\n",
       "      <td>0.0</td>\n",
       "    </tr>\n",
       "    <tr>\n",
       "      <th>1</th>\n",
       "      <td>0.0</td>\n",
       "      <td>0.0</td>\n",
       "      <td>0.0</td>\n",
       "      <td>0.0</td>\n",
       "    </tr>\n",
       "    <tr>\n",
       "      <th>2</th>\n",
       "      <td>0.0</td>\n",
       "      <td>0.0</td>\n",
       "      <td>0.0</td>\n",
       "      <td>0.0</td>\n",
       "    </tr>\n",
       "  </tbody>\n",
       "</table>\n",
       "</div>"
      ],
      "text/plain": [
       "   time  temp  pressure  gas\n",
       "0   0.0   0.0       0.0  0.0\n",
       "1   0.0   0.0       0.0  0.0\n",
       "2   0.0   0.0       0.0  0.0"
      ]
     },
     "execution_count": 10,
     "metadata": {},
     "output_type": "execute_result"
    }
   ],
   "source": [
    "# this will return the first 3 rows of the DataFrame data_exercise - note that Python starts counting from 0 and ignore the last number you're requesting here.\n",
    "data_exercise1.iloc[0:3]"
   ]
  },
  {
   "cell_type": "markdown",
   "metadata": {},
   "source": [
    "<h3>2. Selection by Index</h3>\n",
    "You see those numbers down the left-hand side of the DataFrame? They're called the 'index' of the row. Think of them as a unique reference number for each row:"
   ]
  },
  {
   "cell_type": "code",
   "execution_count": 11,
   "metadata": {},
   "outputs": [
    {
     "data": {
      "text/html": [
       "<div>\n",
       "<style scoped>\n",
       "    .dataframe tbody tr th:only-of-type {\n",
       "        vertical-align: middle;\n",
       "    }\n",
       "\n",
       "    .dataframe tbody tr th {\n",
       "        vertical-align: top;\n",
       "    }\n",
       "\n",
       "    .dataframe thead th {\n",
       "        text-align: right;\n",
       "    }\n",
       "</style>\n",
       "<table border=\"1\" class=\"dataframe\">\n",
       "  <thead>\n",
       "    <tr style=\"text-align: right;\">\n",
       "      <th></th>\n",
       "      <th>time</th>\n",
       "      <th>temp</th>\n",
       "      <th>pressure</th>\n",
       "      <th>gas</th>\n",
       "    </tr>\n",
       "  </thead>\n",
       "  <tbody>\n",
       "    <tr>\n",
       "      <th>0</th>\n",
       "      <td>0.0</td>\n",
       "      <td>0.00</td>\n",
       "      <td>0.00</td>\n",
       "      <td>0.0</td>\n",
       "    </tr>\n",
       "    <tr>\n",
       "      <th>1</th>\n",
       "      <td>0.0</td>\n",
       "      <td>0.00</td>\n",
       "      <td>0.00</td>\n",
       "      <td>0.0</td>\n",
       "    </tr>\n",
       "    <tr>\n",
       "      <th>2</th>\n",
       "      <td>0.0</td>\n",
       "      <td>0.00</td>\n",
       "      <td>0.00</td>\n",
       "      <td>0.0</td>\n",
       "    </tr>\n",
       "    <tr>\n",
       "      <th>3</th>\n",
       "      <td>0.0</td>\n",
       "      <td>0.00</td>\n",
       "      <td>0.00</td>\n",
       "      <td>0.0</td>\n",
       "    </tr>\n",
       "    <tr>\n",
       "      <th>4</th>\n",
       "      <td>0.0</td>\n",
       "      <td>0.00</td>\n",
       "      <td>0.00</td>\n",
       "      <td>0.0</td>\n",
       "    </tr>\n",
       "    <tr>\n",
       "      <th>5</th>\n",
       "      <td>0.0</td>\n",
       "      <td>0.00</td>\n",
       "      <td>0.00</td>\n",
       "      <td>0.0</td>\n",
       "    </tr>\n",
       "    <tr>\n",
       "      <th>6</th>\n",
       "      <td>0.0</td>\n",
       "      <td>0.00</td>\n",
       "      <td>0.00</td>\n",
       "      <td>0.0</td>\n",
       "    </tr>\n",
       "    <tr>\n",
       "      <th>7</th>\n",
       "      <td>0.0</td>\n",
       "      <td>0.00</td>\n",
       "      <td>0.00</td>\n",
       "      <td>0.0</td>\n",
       "    </tr>\n",
       "    <tr>\n",
       "      <th>8</th>\n",
       "      <td>0.0</td>\n",
       "      <td>0.00</td>\n",
       "      <td>0.00</td>\n",
       "      <td>0.0</td>\n",
       "    </tr>\n",
       "    <tr>\n",
       "      <th>9</th>\n",
       "      <td>4.0</td>\n",
       "      <td>0.00</td>\n",
       "      <td>0.00</td>\n",
       "      <td>0.0</td>\n",
       "    </tr>\n",
       "    <tr>\n",
       "      <th>10</th>\n",
       "      <td>0.0</td>\n",
       "      <td>0.00</td>\n",
       "      <td>0.00</td>\n",
       "      <td>0.0</td>\n",
       "    </tr>\n",
       "    <tr>\n",
       "      <th>11</th>\n",
       "      <td>0.0</td>\n",
       "      <td>0.00</td>\n",
       "      <td>0.00</td>\n",
       "      <td>0.0</td>\n",
       "    </tr>\n",
       "    <tr>\n",
       "      <th>12</th>\n",
       "      <td>232.0</td>\n",
       "      <td>29.15</td>\n",
       "      <td>1010.92</td>\n",
       "      <td>18879.0</td>\n",
       "    </tr>\n",
       "    <tr>\n",
       "      <th>13</th>\n",
       "      <td>235.0</td>\n",
       "      <td>29.15</td>\n",
       "      <td>1010.92</td>\n",
       "      <td>18644.0</td>\n",
       "    </tr>\n",
       "    <tr>\n",
       "      <th>14</th>\n",
       "      <td>238.0</td>\n",
       "      <td>29.15</td>\n",
       "      <td>1010.92</td>\n",
       "      <td>18644.0</td>\n",
       "    </tr>\n",
       "    <tr>\n",
       "      <th>15</th>\n",
       "      <td>241.0</td>\n",
       "      <td>29.15</td>\n",
       "      <td>1010.92</td>\n",
       "      <td>18644.0</td>\n",
       "    </tr>\n",
       "    <tr>\n",
       "      <th>16</th>\n",
       "      <td>244.0</td>\n",
       "      <td>29.15</td>\n",
       "      <td>1010.92</td>\n",
       "      <td>18644.0</td>\n",
       "    </tr>\n",
       "    <tr>\n",
       "      <th>17</th>\n",
       "      <td>247.0</td>\n",
       "      <td>29.15</td>\n",
       "      <td>1010.92</td>\n",
       "      <td>18644.0</td>\n",
       "    </tr>\n",
       "    <tr>\n",
       "      <th>18</th>\n",
       "      <td>251.0</td>\n",
       "      <td>29.15</td>\n",
       "      <td>1010.92</td>\n",
       "      <td>18644.0</td>\n",
       "    </tr>\n",
       "    <tr>\n",
       "      <th>19</th>\n",
       "      <td>254.0</td>\n",
       "      <td>29.15</td>\n",
       "      <td>1010.92</td>\n",
       "      <td>18644.0</td>\n",
       "    </tr>\n",
       "    <tr>\n",
       "      <th>20</th>\n",
       "      <td>257.0</td>\n",
       "      <td>29.15</td>\n",
       "      <td>1010.92</td>\n",
       "      <td>18644.0</td>\n",
       "    </tr>\n",
       "  </tbody>\n",
       "</table>\n",
       "</div>"
      ],
      "text/plain": [
       "     time   temp  pressure      gas\n",
       "0     0.0   0.00      0.00      0.0\n",
       "1     0.0   0.00      0.00      0.0\n",
       "2     0.0   0.00      0.00      0.0\n",
       "3     0.0   0.00      0.00      0.0\n",
       "4     0.0   0.00      0.00      0.0\n",
       "5     0.0   0.00      0.00      0.0\n",
       "6     0.0   0.00      0.00      0.0\n",
       "7     0.0   0.00      0.00      0.0\n",
       "8     0.0   0.00      0.00      0.0\n",
       "9     4.0   0.00      0.00      0.0\n",
       "10    0.0   0.00      0.00      0.0\n",
       "11    0.0   0.00      0.00      0.0\n",
       "12  232.0  29.15   1010.92  18879.0\n",
       "13  235.0  29.15   1010.92  18644.0\n",
       "14  238.0  29.15   1010.92  18644.0\n",
       "15  241.0  29.15   1010.92  18644.0\n",
       "16  244.0  29.15   1010.92  18644.0\n",
       "17  247.0  29.15   1010.92  18644.0\n",
       "18  251.0  29.15   1010.92  18644.0\n",
       "19  254.0  29.15   1010.92  18644.0\n",
       "20  257.0  29.15   1010.92  18644.0"
      ]
     },
     "execution_count": 11,
     "metadata": {},
     "output_type": "execute_result"
    }
   ],
   "source": [
    "# this will return rows that have an index with a value between 0 and 20 - again, Python starts at 0, but keeps you on your toes by including the last number you're requesting.\n",
    "data_exercise1.loc[0:20]"
   ]
  },
  {
   "cell_type": "markdown",
   "metadata": {},
   "source": [
    "Now for the actual exercise - define a new DataFrame like the one below:"
   ]
  },
  {
   "cell_type": "code",
   "execution_count": 12,
   "metadata": {},
   "outputs": [
    {
     "data": {
      "text/html": [
       "<div>\n",
       "<style scoped>\n",
       "    .dataframe tbody tr th:only-of-type {\n",
       "        vertical-align: middle;\n",
       "    }\n",
       "\n",
       "    .dataframe tbody tr th {\n",
       "        vertical-align: top;\n",
       "    }\n",
       "\n",
       "    .dataframe thead th {\n",
       "        text-align: right;\n",
       "    }\n",
       "</style>\n",
       "<table border=\"1\" class=\"dataframe\">\n",
       "  <thead>\n",
       "    <tr style=\"text-align: right;\">\n",
       "      <th></th>\n",
       "      <th>time</th>\n",
       "      <th>temp</th>\n",
       "      <th>pressure</th>\n",
       "      <th>gas</th>\n",
       "    </tr>\n",
       "  </thead>\n",
       "  <tbody>\n",
       "    <tr>\n",
       "      <th>12</th>\n",
       "      <td>232.0</td>\n",
       "      <td>29.15</td>\n",
       "      <td>1010.92</td>\n",
       "      <td>18879.0</td>\n",
       "    </tr>\n",
       "    <tr>\n",
       "      <th>13</th>\n",
       "      <td>235.0</td>\n",
       "      <td>29.15</td>\n",
       "      <td>1010.92</td>\n",
       "      <td>18644.0</td>\n",
       "    </tr>\n",
       "    <tr>\n",
       "      <th>14</th>\n",
       "      <td>238.0</td>\n",
       "      <td>29.15</td>\n",
       "      <td>1010.92</td>\n",
       "      <td>18644.0</td>\n",
       "    </tr>\n",
       "    <tr>\n",
       "      <th>15</th>\n",
       "      <td>241.0</td>\n",
       "      <td>29.15</td>\n",
       "      <td>1010.92</td>\n",
       "      <td>18644.0</td>\n",
       "    </tr>\n",
       "    <tr>\n",
       "      <th>16</th>\n",
       "      <td>244.0</td>\n",
       "      <td>29.15</td>\n",
       "      <td>1010.92</td>\n",
       "      <td>18644.0</td>\n",
       "    </tr>\n",
       "    <tr>\n",
       "      <th>...</th>\n",
       "      <td>...</td>\n",
       "      <td>...</td>\n",
       "      <td>...</td>\n",
       "      <td>...</td>\n",
       "    </tr>\n",
       "    <tr>\n",
       "      <th>195</th>\n",
       "      <td>784.0</td>\n",
       "      <td>29.15</td>\n",
       "      <td>1010.92</td>\n",
       "      <td>18744.0</td>\n",
       "    </tr>\n",
       "    <tr>\n",
       "      <th>196</th>\n",
       "      <td>787.0</td>\n",
       "      <td>29.15</td>\n",
       "      <td>1010.92</td>\n",
       "      <td>18744.0</td>\n",
       "    </tr>\n",
       "    <tr>\n",
       "      <th>197</th>\n",
       "      <td>790.0</td>\n",
       "      <td>29.15</td>\n",
       "      <td>1010.92</td>\n",
       "      <td>18744.0</td>\n",
       "    </tr>\n",
       "    <tr>\n",
       "      <th>198</th>\n",
       "      <td>792.0</td>\n",
       "      <td>29.15</td>\n",
       "      <td>1010.92</td>\n",
       "      <td>18744.0</td>\n",
       "    </tr>\n",
       "    <tr>\n",
       "      <th>199</th>\n",
       "      <td>795.0</td>\n",
       "      <td>29.15</td>\n",
       "      <td>1010.92</td>\n",
       "      <td>18744.0</td>\n",
       "    </tr>\n",
       "  </tbody>\n",
       "</table>\n",
       "<p>188 rows × 4 columns</p>\n",
       "</div>"
      ],
      "text/plain": [
       "      time   temp  pressure      gas\n",
       "12   232.0  29.15   1010.92  18879.0\n",
       "13   235.0  29.15   1010.92  18644.0\n",
       "14   238.0  29.15   1010.92  18644.0\n",
       "15   241.0  29.15   1010.92  18644.0\n",
       "16   244.0  29.15   1010.92  18644.0\n",
       "..     ...    ...       ...      ...\n",
       "195  784.0  29.15   1010.92  18744.0\n",
       "196  787.0  29.15   1010.92  18744.0\n",
       "197  790.0  29.15   1010.92  18744.0\n",
       "198  792.0  29.15   1010.92  18744.0\n",
       "199  795.0  29.15   1010.92  18744.0\n",
       "\n",
       "[188 rows x 4 columns]"
      ]
     },
     "execution_count": 12,
     "metadata": {},
     "output_type": "execute_result"
    }
   ],
   "source": [
    "data_exercise2 = tpg_data[tpg_data['temp'] > 0]\n",
    "data_exercise2"
   ]
  },
  {
   "cell_type": "markdown",
   "metadata": {},
   "source": [
    "<b>Write python that returns the first five rows of data_exercise2 using both loc and iloc.</b>"
   ]
  },
  {
   "cell_type": "markdown",
   "metadata": {},
   "source": [
    "<h1>Python Activity 2 - Plotting Your Data</h1>\n",
    "In this section, we're going to use pandas to plot the data from your Arduino.\n",
    "\n",
    "First - re-run the code that you wrote for Hacking Exercises 1 and 2 that measured data and saved it in a DataFrame called tpg_data."
   ]
  },
  {
   "cell_type": "markdown",
   "metadata": {},
   "source": [
    "<h3>2.1 - Plotting Data</h3>\n",
    "You've got some data, but it's just lots of numbers. We'll use a Python module called <b>matplotlib</b> to plot graphs of your data."
   ]
  },
  {
   "cell_type": "code",
   "execution_count": 13,
   "metadata": {},
   "outputs": [
    {
     "data": {
      "image/png": "[encoded data removed]",
      "text/plain": [
       "<Figure size 432x288 with 1 Axes>"
      ]
     },
     "metadata": {
      "needs_background": "light"
     },
     "output_type": "display_data"
    }
   ],
   "source": [
    "import matplotlib as mpl\n",
    "mpl.rcParams['axes.formatter.useoffset'] = False    # Remove annoying auto-offset\n",
    "import matplotlib.pyplot as plt\n",
    "\n",
    "# Create a figure\n",
    "fig = plt.figure()\n",
    "# Add an axis to the figure\n",
    "ax = fig.add_subplot(111)\n",
    "# Tell the axis to plot the data - time on the x-axis, temperature on the y-axis\n",
    "ax.scatter(tpg_data['time'], tpg_data['temp'])\n",
    "# Tell the axis to plot the data - time on the x-axis, gas reading on the y-axis\n",
    "ax.scatter(tpg_data['time'], tpg_data['gas'])\n",
    "# Show the figure - not strictly necessary in jupyter notebook, but essential if you're writing a .py file\n",
    "plt.show()"
   ]
  },
  {
   "cell_type": "markdown",
   "metadata": {},
   "source": [
    "<h3>2.2 - Making the Plot Clearer</h3>\n",
    "We can see the data, but our plot is missing basic information. Let's add some axes labels and a legend to distinguish the two datasets."
   ]
  },
  {
   "cell_type": "code",
   "execution_count": 14,
   "metadata": {},
   "outputs": [
    {
     "data": {
      "image/png": "[encoded data removed]",
      "text/plain": [
       "<Figure size 432x288 with 1 Axes>"
      ]
     },
     "metadata": {
      "needs_background": "light"
     },
     "output_type": "display_data"
    }
   ],
   "source": [
    "fig = plt.figure()\n",
    "ax = fig.add_subplot(111)\n",
    "ax.scatter(tpg_data['time'], tpg_data['temp'])\n",
    "ax.scatter(tpg_data['time'], tpg_data['gas'])\n",
    "\n",
    "# Add some labels and a legend to the plot\n",
    "ax.set_xlabel('Time (s)')\n",
    "ax.set_ylabel('Gas Sensor Reading (a.u.) / Temperature ($^\\circ$C)')\n",
    "plt.legend(['Gas', 'Temperature'])\n",
    "plt.show()"
   ]
  },
  {
   "cell_type": "markdown",
   "metadata": {},
   "source": [
    "<h3>2.3 - Adding a Second Y-Axis</h3>\n",
    "Our values for pressure and humidity are separated by a huge range. Let's fix this by adding a secondary y-axis on which we'll just plot humidity.\n"
   ]
  },
  {
   "cell_type": "code",
   "execution_count": 16,
   "metadata": {},
   "outputs": [
    {
     "data": {
      "image/png": "[encoded data removed]",
      "text/plain": [
       "<Figure size 432x288 with 2 Axes>"
      ]
     },
     "metadata": {
      "needs_background": "light"
     },
     "output_type": "display_data"
    }
   ],
   "source": [
    "fig = plt.figure()\n",
    "ax = fig.add_subplot(111)\n",
    "ax.scatter(tpg_data['time'], tpg_data['temp'], color='blue')\n",
    "ax.set_ylabel(r'Temperature ($^\\circ$C)')\n",
    "\n",
    "# Add a second y-axis to the plot              \n",
    "ax2 = ax.twinx()\n",
    "# Plot a second data set on the second y-axis\n",
    "ax2.scatter(tpg_data['time'], tpg_data['gas'], color='orange')\n",
    "ax2.set_ylabel(r'Gas Sensor Reading (a.u.)')\n",
    "\n",
    "ax.set_xlabel('Time (s)')\n",
    "plt.show()"
   ]
  },
  {
   "cell_type": "markdown",
   "metadata": {},
   "source": [
    "<h2>Python Exercise 2</h2>\n",
    "Search google and ChaptGPT to find out how to do the following:\n",
    "\n",
    "1. Change the font size of the tick labels on your plot\n",
    "1. Change the values of the x- and y-limits so you can clearly read both datasets\n",
    "1. Add a legend for both datasets to the graph - set its position and font size and think about how to make it clear which dataset belongs to which axis.\n"
   ]
  },
  {
   "cell_type": "markdown",
   "metadata": {},
   "source": [
    "<h3>2.4 - Multiple Subplots</h3>\n",
    "<b> You've probably had enough by this point - feel free to stop, but make sure to look through the next sections in your own time!</b>\n",
    "\n",
    "Instead of plotting two data sets on a single graph, we can also plot multiple graphs. Here we'll use three new things:\n",
    "\n",
    "1. add_subplot - https://matplotlib.org/stable/api/_as_gen/matplotlib.pyplot.subplot.html\n",
    "\n",
    "2. plot (instead of scatter) - https://matplotlib.org/stable/api/_as_gen/matplotlib.pyplot.plot.html\n",
    "\n",
    "3. Using an (r,g,b) code to specify colour of the lines."
   ]
  },
  {
   "cell_type": "code",
   "execution_count": 17,
   "metadata": {},
   "outputs": [
    {
     "data": {
      "image/png": "[encoded data removed]",
      "text/plain": [
       "<Figure size 792x360 with 2 Axes>"
      ]
     },
     "metadata": {
      "needs_background": "light"
     },
     "output_type": "display_data"
    }
   ],
   "source": [
    "fig = plt.figure(figsize=(11,5))\n",
    "# Create a subplot with 1 row and 2 columns - ax1 is in position 1\n",
    "ax1 = fig.add_subplot(121)\n",
    "# Create a subplot with 1 row and 2 columns - ax2 is in position 2\n",
    "ax2 = fig.add_subplot(122)\n",
    "\n",
    "# c=colour, it's used in the format c=(red, green, blue) where each value is between 0 and 1\n",
    "ax1.plot(tpg_data['time'], tpg_data['gas'], c=(1.0, 0.0, 0.0))\n",
    "ax1.set_title('Gas Sensor Reading vs. Time')\n",
    "\n",
    "ax2.plot(tpg_data['time'], tpg_data['temp'], c=(0.0, 0.5, 0.5))\n",
    "ax2.set_title('Temperature vs. Time')\n",
    "\n",
    "plt.show()"
   ]
  },
  {
   "cell_type": "markdown",
   "metadata": {},
   "source": [
    "<h3>2.5 - Data Filtering Using Pandas 1 - Filtering by Value</h3>\n",
    "The plots above look pretty ugly - especially those 0 values. Let's look at two ways of filtering them out.\n",
    "\n",
    "In the simplest approach, we can just look at values greater than zero. We saw how to do this earlier with Pandas:"
   ]
  },
  {
   "cell_type": "code",
   "execution_count": 18,
   "metadata": {},
   "outputs": [
    {
     "data": {
      "image/png": "[encoded data removed]",
      "text/plain": [
       "<Figure size 432x288 with 1 Axes>"
      ]
     },
     "metadata": {
      "needs_background": "light"
     },
     "output_type": "display_data"
    }
   ],
   "source": [
    "tpg_data_filter = tpg_data[tpg_data['gas'] > 0]\n",
    "\n",
    "fig = plt.figure()\n",
    "ax = fig.add_subplot(111)\n",
    "ax.scatter(tpg_data_filter['time'], tpg_data_filter['gas'])\n",
    "plt.show()"
   ]
  },
  {
   "cell_type": "markdown",
   "metadata": {},
   "source": [
    "<h3>2.6 - Data Filtering Using Pandas 2 - Statistical Filtering</h3>\n",
    "Alternatively we can apply a statistical criterion. In the code below, we filter out code below the lowest 1% and above the highest 99% of values. Trying varying the quantiles to exclude outliers."
   ]
  },
  {
   "cell_type": "code",
   "execution_count": 19,
   "metadata": {},
   "outputs": [
    {
     "data": {
      "image/png": "[encoded data removed]",
      "text/plain": [
       "<Figure size 432x288 with 1 Axes>"
      ]
     },
     "metadata": {
      "needs_background": "light"
     },
     "output_type": "display_data"
    }
   ],
   "source": [
    "lower_bound = tpg_data['gas'].quantile(0.01)\n",
    "upper_bound = tpg_data['gas'].quantile(0.99)\n",
    "\n",
    "# Here's the tricky bit - we ignore values that are below the lower bound or above the upper bound - ask ChatGPT what the code is doing!\n",
    "data_clean = tpg_data[(tpg_data['gas'] > lower_bound) & (tpg_data['gas'] < upper_bound)]\n",
    "\n",
    "fig = plt.figure()\n",
    "ax = fig.add_subplot(111)\n",
    "ax.plot(data_clean['time'], data_clean['gas'])\n",
    "ax.set_xlabel('Time (s)')\n",
    "ax.set_ylabel('Gas (a.u.)')\n",
    "plt.show()"
   ]
  },
  {
   "cell_type": "markdown",
   "metadata": {},
   "source": [
    "<h3>2.7 - Saving Your Graph</h3>"
   ]
  },
  {
   "cell_type": "code",
   "execution_count": 72,
   "metadata": {},
   "outputs": [
    {
     "data": {
      "text/plain": [
       "<Figure size 640x480 with 0 Axes>"
      ]
     },
     "metadata": {},
     "output_type": "display_data"
    }
   ],
   "source": [
    "# Save graph - resolution @ 200 dots per inch, tight bounding box\n",
    "filename = 'plot_name.png'\n",
    "\n",
    "# The code below will save your figure to the directory where this code is stored.\n",
    "plt.savefig(filename, dpi=200, bbox_inches='tight')"
   ]
  },
  {
   "cell_type": "markdown",
   "metadata": {},
   "source": [
    "<h1>End of Workshop</h1>\n"
   ]
  },
  {
   "cell_type": "markdown",
   "metadata": {},
   "source": [
    "<h3>Things to Explore in Your Spare Time</h3>\n",
    "\n",
    "1. Use an rgb code to find the ugliest colour scheme possible for your graphs.\n",
    "\n",
    "1. Modify the marker and line styles so your output from \"plot\" looks like a scatter plot.\n",
    "\n",
    "1. Make two versions of your plots - a good one, that clearly shows the data, and a really bad one that is as ugly as possible. You can find the <b>many</b> settings that matplotlib will let you change [here](https://matplotlib.org/stable/api/_as_gen/matplotlib.pyplot.plot.html)\n"
   ]
  },
  {
   "cell_type": "code",
   "execution_count": 20,
   "metadata": {},
   "outputs": [
    {
     "data": {
      "text/plain": [
       "['minimal_plot.ipynb',\n",
       " 'Workshop 2 - Plot the Data.pdf',\n",
       " 'Workshop 2 - Python.ipynb',\n",
       " 'Workshop 2 - Python.html',\n",
       " '.DS_Store',\n",
       " 'model_data',\n",
       " 'Workshop 2 - Plot the Data.docx',\n",
       " 'plot_pressure_humidity_basic.png',\n",
       " 'Workshop2_Activity1',\n",
       " 'workshop2_standalone.py',\n",
       " 'Workshop 2 Slides.pptx',\n",
       " 'plot_name.png']"
      ]
     },
     "execution_count": 20,
     "metadata": {},
     "output_type": "execute_result"
    }
   ],
   "source": [
    "import os\n",
    "os.listdir()"
   ]
  },
  {
   "cell_type": "markdown",
   "metadata": {},
   "source": []
  }
 ],
 "metadata": {
  "kernelspec": {
   "display_name": "base",
   "language": "python",
   "name": "python3"
  },
  "language_info": {
   "codemirror_mode": {
    "name": "ipython",
    "version": 3
   },
   "file_extension": ".py",
   "mimetype": "text/x-python",
   "name": "python",
   "nbconvert_exporter": "python",
   "pygments_lexer": "ipython3",
   "version": "3.9.10"
  }
 },
 "nbformat": 4,
 "nbformat_minor": 2
}
